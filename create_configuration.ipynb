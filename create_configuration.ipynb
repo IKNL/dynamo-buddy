{
 "cells": [
  {
   "cell_type": "markdown",
   "metadata": {},
   "source": [
    "<img src=\"https://github.com/IKNL/guidelines/blob/master/resources/logos/iknl_nl.png?raw=true\" width=150 align=\"right\">\n",
    "<br>\n",
    "<b><font size=\"8\"> DYNAMO Input Files - Automated </font></b>"
   ]
  },
  {
   "cell_type": "markdown",
   "metadata": {},
   "source": [
    "<br>\n",
    "<br>\n",
    "<br>"
   ]
  },
  {
   "cell_type": "markdown",
   "metadata": {},
   "source": [
    "### Importing libraries and definining functions"
   ]
  },
  {
   "cell_type": "code",
   "execution_count": 2,
   "metadata": {},
   "outputs": [],
   "source": [
    "import xml.etree.ElementTree as ET\n",
    "from datetime import datetime\n",
    "import pandas as pd"
   ]
  },
  {
   "cell_type": "code",
   "execution_count": 3,
   "metadata": {},
   "outputs": [],
   "source": [
    "def add_scenario(tree):\n",
    "    # scenario_elements = [elem.tag for elem in tree.find('scenarios').find('scenario').iter()][1:]\n",
    "    scenario_elements = ['uniquename','successRate','targetMinAge','targetMaxAge','targetSex','transfilename','prevfilename']\n",
    "    scenarios = tree.find('scenarios')\n",
    "    new_scenario = ET.SubElement(scenarios,\"scenario\")\n",
    "    for scenario_element in scenario_elements:\n",
    "        ET.SubElement(new_scenario, scenario_element)\n",
    "    return(tree, new_scenario)"
   ]
  },
  {
   "cell_type": "code",
   "execution_count": 4,
   "metadata": {},
   "outputs": [],
   "source": [
    "def update_scenario(scenario, \n",
    "                    uniquename=False, successRate=False, targetMinAge=False, \n",
    "                    targetMaxAge=False, targetSex=False, transfilename=False, \n",
    "                    prevfilename=False):\n",
    "    \n",
    "    if uniquename: scenario.find('uniquename').text = uniquename\n",
    "    if successRate: scenario.find('successRate').text = successRate\n",
    "    if targetMinAge: scenario.find('targetMinAge').text = targetMinAge\n",
    "    if targetMaxAge: scenario.find('targetMaxAge').text = targetMaxAge\n",
    "    if targetSex: scenario.find('targetSex').text = targetSex\n",
    "    if transfilename: scenario.find('transfilename').text = transfilename\n",
    "    if prevfilename: scenario.find('prevfilename').text = prevfilename\n",
    "\n",
    "    return(scenario)"
   ]
  },
  {
   "cell_type": "code",
   "execution_count": 5,
   "metadata": {},
   "outputs": [],
   "source": [
    "def show_tree(tree):\n",
    "    root = tree.getroot()\n",
    "    for i, child in enumerate(root):\n",
    "        print(i, child.tag, child.attrib)\n",
    "        \n",
    "        for i, sub_child in enumerate(child):\n",
    "            print('---', i, sub_child.tag, sub_child.attrib)\n",
    "\n",
    "            for i, sub_sub_child in enumerate(sub_child):\n",
    "                print('------', i, sub_sub_child.tag, sub_sub_child.attrib, sub_sub_child.text)"
   ]
  },
  {
   "cell_type": "code",
   "execution_count": 6,
   "metadata": {},
   "outputs": [],
   "source": [
    "def get_and_delete_default_scenario(tree):\n",
    "    root = tree.getroot()\n",
    "\n",
    "    default_scenario = tree.find('scenarios').find('scenario')\n",
    "    defaults = dict()\n",
    "\n",
    "    if default_scenario:\n",
    "        defaults['default_uniquename'] = default_scenario.find('uniquename').text\n",
    "        defaults['default_successRate'] = default_scenario.find('successRate').text\n",
    "        defaults['default_targetMinAge'] = default_scenario.find('targetMinAge').text\n",
    "        defaults['default_targetMaxAge'] = default_scenario.find('targetMaxAge').text\n",
    "        defaults['default_targetSex'] = default_scenario.find('targetSex').text\n",
    "        defaults['default_transfilename'] = default_scenario.find('transfilename').text\n",
    "        defaults['default_prevfilename'] = default_scenario.find('prevfilename').text\n",
    "\n",
    "        scenarios = root.find('scenarios')\n",
    "        scenarios.remove(default_scenario)\n",
    "\n",
    "    return(tree, default_scenario, defaults)"
   ]
  },
  {
   "cell_type": "markdown",
   "metadata": {},
   "source": [
    "<br>\n",
    "<br>\n",
    "<br>"
   ]
  },
  {
   "cell_type": "markdown",
   "metadata": {},
   "source": [
    "## 1. Scenario's varying on success_rate (i.e. % of population reached)"
   ]
  },
  {
   "cell_type": "markdown",
   "metadata": {},
   "source": [
    "User settings:"
   ]
  },
  {
   "cell_type": "code",
   "execution_count": 519,
   "metadata": {},
   "outputs": [],
   "source": [
    "# A configuration.xml file, with 0 or 1 scenario, is need as input for this code. \n",
    "# From this file the structure of the xml will be taken, and already filled in data will be taken as default.\n",
    "# In the case of an already existing scenario the filled in data will be set as default as well.\n",
    "file_ = '.\\example_files\\configuration.xml' # @USER: Provide the path of a configuration.xml file\n",
    "\n",
    "n_scenarios = 10 # @USER: Set the desired number of scenarios\n",
    "include_0 = True\n",
    "include_100 = True\n",
    "\n",
    "# Choose whether to use the default values or not\n",
    "# True; Use default values (if available scenario), \n",
    "# False; Use the user defined settings below \".._set_by_user\"\n",
    "use_default = False # @USER: Choose True or False\n",
    "\n",
    "\n",
    "# Or, set use_default to False, and you can set the values yourself: these will overwrite the defaults\n",
    "targetMinAge_set_by_user = \"0\" # @USER: Set the minimum age for the scenario's\n",
    "targetMaxAge_set_by_user = \"95\" # @USER: Set the maximum age for the scenario's\n",
    "targetSex_set_by_user = \"2\" # @USER: Set the target sex for the scenario's\n",
    "transfilename_set_by_user = \"sim1Rose\" # @USER: Provide the filename of the transitionmatrix\n",
    "prevfilename_set_by_user = \"Hoii\" # @USER: Provide the filename of the risk factor prevalence\n"
   ]
  },
  {
   "cell_type": "markdown",
   "metadata": {},
   "source": [
    "Success rates:"
   ]
  },
  {
   "cell_type": "code",
   "execution_count": 535,
   "metadata": {},
   "outputs": [
    {
     "data": {
      "text/plain": [
       "[10, 20, 30, 40, 50, 60, 70, 80, 90, 100]"
      ]
     },
     "execution_count": 535,
     "metadata": {},
     "output_type": "execute_result"
    }
   ],
   "source": [
    "succes_rates = list(range(100//n_scenarios,100+1,100//n_scenarios))\n",
    "\n",
    "if include_0:\n",
    "    if 0 not in succes_rates: succes_rates = [0] + succes_rates\n",
    "if include_100:\n",
    "    if 100 not in succes_rates: succes_rates = succes_rates + [100]\n",
    "\n",
    "n_scenarios = len(succes_rates)\n",
    "\n",
    "succes_rates"
   ]
  },
  {
   "cell_type": "markdown",
   "metadata": {},
   "source": [
    "Execution:"
   ]
  },
  {
   "cell_type": "code",
   "execution_count": 522,
   "metadata": {},
   "outputs": [
    {
     "name": "stdout",
     "output_type": "stream",
     "text": [
      "No default scenario available.\n",
      "User settings are used.\n",
      "Created: configuration_varying_succesrates_20240716_122334.xml\n"
     ]
    }
   ],
   "source": [
    "tree = ET.parse(file_)\n",
    "tree, default_scenario, default_scenario_settings = get_and_delete_default_scenario(tree)\n",
    "\n",
    "if default_scenario:\n",
    "    print('Default scenario available.')\n",
    "else:\n",
    "    print('No default scenario available.')\n",
    "\n",
    "if default_scenario and use_default:\n",
    "    print('Default values are used for targetMinAge, targetMaxAge, targetSex, transfilename and prevfilename.')\n",
    "else:\n",
    "    print('User settings are used.')\n",
    "\n",
    "for i_scenario in range(n_scenarios):\n",
    "    tree, new_scenario = add_scenario(tree)\n",
    "\n",
    "    if default_scenario and use_default:\n",
    "        targetMinAge = default_scenario_settings['default_targetMinAge']\n",
    "        targetMaxAge = default_scenario_settings['default_targetMaxAge']\n",
    "        targetSex = default_scenario_settings['default_targetSex']\n",
    "        transfilename = default_scenario_settings['default_transfilename']\n",
    "        prevfilename = default_scenario_settings['default_prevfilename']\n",
    "\n",
    "    else: # user settings will be used\n",
    "        targetMinAge = targetMinAge_set_by_user\n",
    "        targetMaxAge = targetMaxAge_set_by_user\n",
    "        targetSex = targetSex_set_by_user\n",
    "        transfilename = transfilename_set_by_user\n",
    "        prevfilename = prevfilename_set_by_user\n",
    "        \n",
    "    new_scenario = update_scenario(new_scenario, \n",
    "                                   uniquename=f\"Scenario{i_scenario}\", \n",
    "                                   successRate=str(succes_rates[i_scenario]),\n",
    "                                   targetMinAge=targetMinAge,\n",
    "                                   targetMaxAge=targetMaxAge,\n",
    "                                   targetSex=targetSex,\n",
    "                                   transfilename=transfilename,\n",
    "                                   prevfilename=prevfilename)\n",
    "    \n",
    "now = datetime.now()\n",
    "dt_string = now.strftime(\"%Y%m%d_%H%M%S\")\n",
    "output_xml = f'configuration_varying_succesrates_{dt_string}.xml' \n",
    "tree.write(output_xml)\n",
    "\n",
    "print(f'Created: {output_xml}')"
   ]
  },
  {
   "cell_type": "markdown",
   "metadata": {},
   "source": [
    "<br>\n",
    "<br>\n",
    "<br>"
   ]
  },
  {
   "cell_type": "markdown",
   "metadata": {},
   "source": [
    "## 2. Different configurations for age groups with scenario's varying on success_rate (i.e. % of population reached)"
   ]
  },
  {
   "cell_type": "markdown",
   "metadata": {},
   "source": [
    "User settings:"
   ]
  },
  {
   "cell_type": "code",
   "execution_count": 537,
   "metadata": {},
   "outputs": [],
   "source": [
    "# A configuration.xml file, with 0 or 1 scenario, is need as input for this code. \n",
    "# From this file the structure of the xml will be taken, and already filled in data will be taken as default.\n",
    "# In the case of an already existing scenario the filled in data will be set as default as well.\n",
    "file_ = '.\\example_files\\configuration2.xml' # @USER: Provide the path of a configuration.xml file\n",
    "\n",
    "n_scenarios = 10 # @USER: Set the desired number of scenarios\n",
    "include_0 = True\n",
    "include_100 = True\n",
    "\n",
    "# A configuration.xml file will be created per age group. The user can define age groups. Example:\n",
    "# age_groups = [ \n",
    "#     (0,49),\n",
    "#     (50,100)\n",
    "#     ]\n",
    "# This example contains two age groups: \n",
    "# group one ranges from ages 0 to 49, \n",
    "# and group two from 50 to 100 years old.\n",
    "age_groups = [ # @USER: Define desired age groups. List of tuples (age groups) with (minAge, maxAge) per age group.\n",
    "    (0,18),\n",
    "    (70,95)\n",
    "    ] \n",
    "\n",
    "\n",
    "# Choose whether to use the default values or not\n",
    "# True; Use default values (if available scenario), \n",
    "# False; Use the user defined settings below \".._set_by_user\"\n",
    "use_default = False # @USER: Choose True or False\n",
    "\n",
    "\n",
    "# Or, set use_default to False, and you can set the values yourself: these will overwrite the defaults\n",
    "targetSex_set_by_user = \"2\" # @USER: Set the target sex for the scenario's. 0: male, 1: female, 2: both\n",
    "transfilename_set_by_user = \"sim1Rose\" # @USER: Provide the filename of the transition\n",
    "prevfilename_set_by_user = \"Hoii\" # @USER: Provide the filename of the risk factor prevalence"
   ]
  },
  {
   "cell_type": "markdown",
   "metadata": {},
   "source": [
    "Success rates:"
   ]
  },
  {
   "cell_type": "code",
   "execution_count": 533,
   "metadata": {},
   "outputs": [
    {
     "name": "stdout",
     "output_type": "stream",
     "text": [
      "succes_rates: [10, 20, 30, 40, 50, 60, 70, 80, 90, 100]\n"
     ]
    }
   ],
   "source": [
    "succes_rates = list(range(100//n_scenarios,100+1,100//n_scenarios))\n",
    "\n",
    "if include_0:\n",
    "    if 0 not in succes_rates: succes_rates = [0] + succes_rates\n",
    "if include_100:\n",
    "    if 100 not in succes_rates: succes_rates = succes_rates + [100]\n",
    "\n",
    "n_scenarios = len(succes_rates)\n",
    "\n",
    "print(f\"succes_rates: {succes_rates}\")"
   ]
  },
  {
   "cell_type": "markdown",
   "metadata": {},
   "source": [
    "Execution:"
   ]
  },
  {
   "cell_type": "code",
   "execution_count": 534,
   "metadata": {},
   "outputs": [
    {
     "name": "stdout",
     "output_type": "stream",
     "text": [
      "Default scenario available.\n",
      "User settings are used.\n",
      "Created: configuration_age_group_0_to_18_20240716_122548.xml\n",
      "Created: configuration_age_group_70_to_95_20240716_122548.xml\n"
     ]
    }
   ],
   "source": [
    "tree = ET.parse(file_)\n",
    "tree, default_scenario, default_scenario_settings = get_and_delete_default_scenario(tree)\n",
    "\n",
    "if default_scenario:\n",
    "    print('Default scenario available.')\n",
    "else:\n",
    "    print('No default scenario available.')\n",
    "\n",
    "if default_scenario and use_default:\n",
    "    print('Default values are used for targetSex, transfilename and prevfilename.')\n",
    "else:\n",
    "    print('User settings are used.')\n",
    "    \n",
    "\n",
    "for age_group in age_groups:\n",
    "    \n",
    "    tree = ET.parse(file_)\n",
    "    tree, default_scenario, default_scenario_settings = get_and_delete_default_scenario(tree)\n",
    "\n",
    "    for i_scenario in range(n_scenarios):\n",
    "        tree, new_scenario = add_scenario(tree)\n",
    "\n",
    "        if default_scenario and use_default:\n",
    "            targetSex = default_scenario_settings['default_targetSex']\n",
    "            transfilename = default_scenario_settings['default_transfilename']\n",
    "            prevfilename = default_scenario_settings['default_prevfilename']\n",
    "\n",
    "        else: # user settings will be used\n",
    "            targetSex = targetSex_set_by_user\n",
    "            transfilename = transfilename_set_by_user\n",
    "            prevfilename = prevfilename_set_by_user\n",
    "            \n",
    "        new_scenario = update_scenario(new_scenario, \n",
    "                                    uniquename=f\"Scenario{i_scenario}\", \n",
    "                                    successRate=str(succes_rates[i_scenario]),\n",
    "                                    targetMinAge=str(age_group[0]),\n",
    "                                    targetMaxAge=str(age_group[1]),\n",
    "                                    targetSex=targetSex,\n",
    "                                    transfilename=transfilename,\n",
    "                                    prevfilename=prevfilename)\n",
    "        \n",
    "    now = datetime.now()\n",
    "    dt_string = now.strftime(\"%Y%m%d_%H%M%S\")\n",
    "    output_xml = f\"configuration_age_group_{str(age_group[0])}_to_{str(age_group[1])}_{dt_string}.xml\"\n",
    "    tree.write(output_xml)\n",
    "\n",
    "    print(f'Created: {output_xml}')"
   ]
  },
  {
   "cell_type": "markdown",
   "metadata": {},
   "source": [
    "<br>\n",
    "<br>\n",
    "<br>"
   ]
  },
  {
   "cell_type": "markdown",
   "metadata": {},
   "source": [
    "## 3. Create custom scenario's"
   ]
  },
  {
   "cell_type": "markdown",
   "metadata": {},
   "source": [
    "User settings:"
   ]
  },
  {
   "cell_type": "code",
   "execution_count": 571,
   "metadata": {},
   "outputs": [],
   "source": [
    "# The user has many options for custom settings. \n",
    "# The cell below this one will print the chosen user settings, always check if everything is according to what you expected.\n",
    "\n",
    "# A configuration.xml file, with 0 or 1 scenario, is need as input for this code. \n",
    "# From this file the structure of the xml will be taken, and already filled in data will be taken as default.\n",
    "# In the case of an already existing scenario the filled in data will be set as default as well.\n",
    "file_ = '.\\example_files\\configuration2.xml' # @USER: Provide the path of a configuration.xml file\n",
    "\n",
    "n_scenarios = 5 # @USER: Set the desired number of scenarios\n",
    "include_0 = True\n",
    "include_100 = True\n",
    "\n",
    "# The user could provide names for the scenario's. This should be a list with strings with the same lenght as the number of scenarios.\n",
    "# If you want to use the scenario names \"Scenario0\", \"Scenario1\", .. etc. use: \n",
    "# [f\"Scenario{i}\" for i in range(n_scenarios)] \n",
    "scenario_names = [f\"Scenario{i}\" for i in range(n_scenarios)] # @USER: Provide scenario names\n",
    "\n",
    "\n",
    "# There are different options for the success_rate_type:\n",
    "# \"constant\", \"varying\", or \"custom\"\n",
    "# constant: In all scenario's the success rate is constant, the user has to set \"success_rate_value\"\n",
    "# varying: The success rates are varied over the scenario's, the user has to set \"succes_rates_bins\", this can also be set to n_scenarios\n",
    "# custom: The user can set custom rates (0 to 100), provide a list with as many items as n_scenarios, the user has to set \"succes_rates_custom\"\n",
    "success_rate_type = \"varying\" # @USER: Set the success rate type to either \"constant\", \"varying\", or \"custom\"\n",
    "\n",
    "if success_rate_type == \"constant\":\n",
    "    success_rate_value = 100 # @USER: Set this when using success_rate_type = \"constant\"\n",
    "    succes_rates = [success_rate_value]*n_scenarios \n",
    "elif success_rate_type == \"varying\":\n",
    "    succes_rates_bins = n_scenarios # @USER: Set this when using success_rate_type = \"varying\"\n",
    "    succes_rates = list(range(100//succes_rates_bins,100+1,100//succes_rates_bins))\n",
    "    if include_0:\n",
    "        if 0 not in succes_rates: succes_rates = [0] + succes_rates\n",
    "    if include_100:\n",
    "        if 100 not in succes_rates: succes_rates = succes_rates + [100]\n",
    "    n_scenarios = len(succes_rates)\n",
    "\n",
    "elif success_rate_type == \"custom\":\n",
    "    succes_rates_custom = [10,20,30,40,50] # @USER: Set this when using success_rate_type = \"custom\"\n",
    "    succes_rates = succes_rates_custom\n",
    "\n",
    "\n",
    "targetSex = 2 # @USER: Set the target sex for the scenario's, where 0: male, 1: female, 2: both\n",
    "targetSexs = [targetSex]*n_scenarios\n",
    "\n",
    "transfilename = \"fileX\" # @USER: Provide the filename of the transitionmatrix\n",
    "transfilenames = [transfilename]*n_scenarios\n",
    "\n",
    "prevfilename = \"filenameY\" # @USER: Provide the filename of the risk factor prevalence\n",
    "prevfilenames = [prevfilename]*n_scenarios \n",
    "\n",
    "\n",
    "# There are two options for the target ages (target_ages_type):\n",
    "# \"constant\" or \"groups\"\n",
    "# constant: In all scenario's the min and max age are constant, the user has to set \"target_min_age\" and \"target_max_age\"\n",
    "# groups: Different configuration files will be made for different age groups, the user has to set \"age_groups\"\n",
    "target_ages_type = \"constant\" # @USER: Set the taget ages type to either \"constant\" or \"groups\"\n",
    "\n",
    "if target_ages_type == \"constant\":\n",
    "    target_min_age = 0 # @USER: Set this when using target_ages_type = \"constant\"\n",
    "    target_max_age = 95 # @USER: Set this when using target_ages_type = \"groups\"\n",
    "    age_groups = [(target_min_age, target_max_age)]\n",
    "elif target_ages_type == \"groups\":\n",
    "    age_groups = [ # @USER: Define desired age groups. List of tuples (age groups) with (minAge, maxAge) per age group.\n",
    "        (0,17),\n",
    "        (18,25),\n",
    "        (71,95)\n",
    "        ]\n",
    "    target_min_ages = [g[0] for g in age_groups] \n",
    "    target_max_ages = [g[1] for g in age_groups]\n"
   ]
  },
  {
   "cell_type": "code",
   "execution_count": 572,
   "metadata": {},
   "outputs": [
    {
     "name": "stdout",
     "output_type": "stream",
     "text": [
      "file: .\\example_files\\configuration2.xml\n",
      "n_scenarios: 5\n",
      "scenario_names: ['Scenario0', 'Scenario1', 'Scenario2', 'Scenario3', 'Scenario4']\n",
      "success_rate_type: varying\n",
      "succes_rates: [20, 40, 60, 80, 100]\n",
      "targetSexs: [2, 2, 2, 2, 2]\n",
      "transfilenames: ['fileX', 'fileX', 'fileX', 'fileX', 'fileX']\n",
      "prevfilenames: ['filenameY', 'filenameY', 'filenameY', 'filenameY', 'filenameY']\n",
      "target_ages_type: constant\n",
      "age_group(s): [(0, 95)]\n"
     ]
    }
   ],
   "source": [
    "print(f\"file: {file_}\")\n",
    "print(f\"n_scenarios: {n_scenarios}\")\n",
    "print(f\"scenario_names: {scenario_names}\")\n",
    "print(f\"success_rate_type: {success_rate_type}\")\n",
    "print(f\"succes_rates: {succes_rates}\")\n",
    "print(f\"targetSexs: {targetSexs}\")\n",
    "print(f\"transfilenames: {transfilenames}\")\n",
    "print(f\"prevfilenames: {prevfilenames}\")\n",
    "print(f\"target_ages_type: {target_ages_type}\")\n",
    "print(f\"age_group(s): {age_groups}\")"
   ]
  },
  {
   "cell_type": "markdown",
   "metadata": {},
   "source": [
    "Execution:"
   ]
  },
  {
   "cell_type": "code",
   "execution_count": 573,
   "metadata": {},
   "outputs": [
    {
     "name": "stdout",
     "output_type": "stream",
     "text": [
      "Created: custom_configuration_age_group_0_to_95_20240716_141429.xml\n"
     ]
    }
   ],
   "source": [
    "for age_group in age_groups:\n",
    "    \n",
    "    tree = ET.parse(file_)\n",
    "    tree, default_scenario, default_scenario_settings = get_and_delete_default_scenario(tree)\n",
    "\n",
    "    for i_scenario in range(n_scenarios):\n",
    "        tree, new_scenario = add_scenario(tree)\n",
    "            \n",
    "        new_scenario = update_scenario(new_scenario, \n",
    "                                    uniquename=str(scenario_names[i_scenario]),\n",
    "                                    successRate=str(succes_rates[i_scenario]),\n",
    "                                    targetMinAge=str(age_group[0]),\n",
    "                                    targetMaxAge=str(age_group[1]),\n",
    "                                    targetSex=str(targetSexs[i_scenario]),\n",
    "                                    transfilename=str(transfilenames[i_scenario]),\n",
    "                                    prevfilename=str(prevfilenames[i_scenario]))\n",
    "        \n",
    "    now = datetime.now()\n",
    "    dt_string = now.strftime(\"%Y%m%d_%H%M%S\")\n",
    "    output_xml = f\"custom_configuration_age_group_{str(age_group[0])}_to_{str(age_group[1])}_{dt_string}.xml\"\n",
    "    tree.write(output_xml)\n",
    "\n",
    "    print(f'Created: {output_xml}')"
   ]
  },
  {
   "cell_type": "markdown",
   "metadata": {},
   "source": [
    "<br>\n",
    "<br>\n",
    "<br>"
   ]
  },
  {
   "cell_type": "markdown",
   "metadata": {},
   "source": [
    "## Create transitionmatrix"
   ]
  },
  {
   "cell_type": "markdown",
   "metadata": {},
   "source": [
    "User settings:"
   ]
  },
  {
   "cell_type": "code",
   "execution_count": 7,
   "metadata": {},
   "outputs": [],
   "source": [
    "start_age = 0 # @USER: Set the start age\n",
    "stop_age = 95 # @USER: Set the stop age\n",
    "n_categories = 3 # @USER: Set the number of categories\n",
    "\n",
    "# The user should define the transition chances. This should be a list of tuples stating \n",
    "# the transition chance from a certain category to a certain category. The syntax is as follows: \n",
    "# [(FROM CATEGORY, TO CATEGORY, TRANSITION CHANCE in percentages),]\n",
    "# \n",
    "# Example:\n",
    "# transition_chances = [\n",
    "#     (1,1,100),\n",
    "#     (2,2,100),\n",
    "#     (3,2,50),\n",
    "#     (3,3,50)\n",
    "#     ]\n",
    "# In this example people from category 1 have a chance of 100% to stay category 1,\n",
    "# people from category 2 stay category 2 as well, and people in category 3 have a 50% \n",
    "# chance to stay in category 3, and a 50% chance to change to category 2. \n",
    "# All other transitions are set to 0.\n",
    "transition_chances = [ # @USER: Define transition chances\n",
    "    (1,1,100),\n",
    "    (2,2,100),\n",
    "    (3,2,50),\n",
    "    (3,3,50)\n",
    "    ] "
   ]
  },
  {
   "cell_type": "markdown",
   "metadata": {},
   "source": [
    "Execution:"
   ]
  },
  {
   "cell_type": "code",
   "execution_count": 8,
   "metadata": {},
   "outputs": [
    {
     "data": {
      "text/html": [
       "<div>\n",
       "<style scoped>\n",
       "    .dataframe tbody tr th:only-of-type {\n",
       "        vertical-align: middle;\n",
       "    }\n",
       "\n",
       "    .dataframe tbody tr th {\n",
       "        vertical-align: top;\n",
       "    }\n",
       "\n",
       "    .dataframe thead th {\n",
       "        text-align: right;\n",
       "    }\n",
       "</style>\n",
       "<table border=\"1\" class=\"dataframe\">\n",
       "  <thead>\n",
       "    <tr style=\"text-align: right;\">\n",
       "      <th></th>\n",
       "      <th>1</th>\n",
       "      <th>2</th>\n",
       "      <th>3</th>\n",
       "      <th>4</th>\n",
       "      <th>5</th>\n",
       "      <th>6</th>\n",
       "      <th>7</th>\n",
       "      <th>8</th>\n",
       "      <th>9</th>\n",
       "      <th>10</th>\n",
       "      <th>11</th>\n",
       "      <th>12</th>\n",
       "      <th>13</th>\n",
       "      <th>14</th>\n",
       "      <th>15</th>\n",
       "      <th>16</th>\n",
       "      <th>17</th>\n",
       "      <th>18</th>\n",
       "    </tr>\n",
       "  </thead>\n",
       "  <tbody>\n",
       "    <tr>\n",
       "      <th>gender</th>\n",
       "      <td>0</td>\n",
       "      <td>0</td>\n",
       "      <td>0</td>\n",
       "      <td>0</td>\n",
       "      <td>0</td>\n",
       "      <td>0</td>\n",
       "      <td>0</td>\n",
       "      <td>0</td>\n",
       "      <td>0</td>\n",
       "      <td>1</td>\n",
       "      <td>1</td>\n",
       "      <td>1</td>\n",
       "      <td>1</td>\n",
       "      <td>1</td>\n",
       "      <td>1</td>\n",
       "      <td>1</td>\n",
       "      <td>1</td>\n",
       "      <td>1</td>\n",
       "    </tr>\n",
       "    <tr>\n",
       "      <th>FROM</th>\n",
       "      <td>1</td>\n",
       "      <td>1</td>\n",
       "      <td>1</td>\n",
       "      <td>2</td>\n",
       "      <td>2</td>\n",
       "      <td>2</td>\n",
       "      <td>3</td>\n",
       "      <td>3</td>\n",
       "      <td>3</td>\n",
       "      <td>1</td>\n",
       "      <td>1</td>\n",
       "      <td>1</td>\n",
       "      <td>2</td>\n",
       "      <td>2</td>\n",
       "      <td>2</td>\n",
       "      <td>3</td>\n",
       "      <td>3</td>\n",
       "      <td>3</td>\n",
       "    </tr>\n",
       "    <tr>\n",
       "      <th>TO</th>\n",
       "      <td>1</td>\n",
       "      <td>2</td>\n",
       "      <td>3</td>\n",
       "      <td>1</td>\n",
       "      <td>2</td>\n",
       "      <td>3</td>\n",
       "      <td>1</td>\n",
       "      <td>2</td>\n",
       "      <td>3</td>\n",
       "      <td>1</td>\n",
       "      <td>2</td>\n",
       "      <td>3</td>\n",
       "      <td>1</td>\n",
       "      <td>2</td>\n",
       "      <td>3</td>\n",
       "      <td>1</td>\n",
       "      <td>2</td>\n",
       "      <td>3</td>\n",
       "    </tr>\n",
       "    <tr>\n",
       "      <th>age</th>\n",
       "      <td></td>\n",
       "      <td></td>\n",
       "      <td></td>\n",
       "      <td></td>\n",
       "      <td></td>\n",
       "      <td></td>\n",
       "      <td></td>\n",
       "      <td></td>\n",
       "      <td></td>\n",
       "      <td></td>\n",
       "      <td></td>\n",
       "      <td></td>\n",
       "      <td></td>\n",
       "      <td></td>\n",
       "      <td></td>\n",
       "      <td></td>\n",
       "      <td></td>\n",
       "      <td></td>\n",
       "    </tr>\n",
       "    <tr>\n",
       "      <th>0</th>\n",
       "      <td>100</td>\n",
       "      <td>0</td>\n",
       "      <td>0</td>\n",
       "      <td>0</td>\n",
       "      <td>100</td>\n",
       "      <td>0</td>\n",
       "      <td>0</td>\n",
       "      <td>50</td>\n",
       "      <td>50</td>\n",
       "      <td>100</td>\n",
       "      <td>0</td>\n",
       "      <td>0</td>\n",
       "      <td>0</td>\n",
       "      <td>100</td>\n",
       "      <td>0</td>\n",
       "      <td>0</td>\n",
       "      <td>50</td>\n",
       "      <td>50</td>\n",
       "    </tr>\n",
       "    <tr>\n",
       "      <th>...</th>\n",
       "      <td>...</td>\n",
       "      <td>...</td>\n",
       "      <td>...</td>\n",
       "      <td>...</td>\n",
       "      <td>...</td>\n",
       "      <td>...</td>\n",
       "      <td>...</td>\n",
       "      <td>...</td>\n",
       "      <td>...</td>\n",
       "      <td>...</td>\n",
       "      <td>...</td>\n",
       "      <td>...</td>\n",
       "      <td>...</td>\n",
       "      <td>...</td>\n",
       "      <td>...</td>\n",
       "      <td>...</td>\n",
       "      <td>...</td>\n",
       "      <td>...</td>\n",
       "    </tr>\n",
       "    <tr>\n",
       "      <th>91</th>\n",
       "      <td>100</td>\n",
       "      <td>0</td>\n",
       "      <td>0</td>\n",
       "      <td>0</td>\n",
       "      <td>100</td>\n",
       "      <td>0</td>\n",
       "      <td>0</td>\n",
       "      <td>50</td>\n",
       "      <td>50</td>\n",
       "      <td>100</td>\n",
       "      <td>0</td>\n",
       "      <td>0</td>\n",
       "      <td>0</td>\n",
       "      <td>100</td>\n",
       "      <td>0</td>\n",
       "      <td>0</td>\n",
       "      <td>50</td>\n",
       "      <td>50</td>\n",
       "    </tr>\n",
       "    <tr>\n",
       "      <th>92</th>\n",
       "      <td>100</td>\n",
       "      <td>0</td>\n",
       "      <td>0</td>\n",
       "      <td>0</td>\n",
       "      <td>100</td>\n",
       "      <td>0</td>\n",
       "      <td>0</td>\n",
       "      <td>50</td>\n",
       "      <td>50</td>\n",
       "      <td>100</td>\n",
       "      <td>0</td>\n",
       "      <td>0</td>\n",
       "      <td>0</td>\n",
       "      <td>100</td>\n",
       "      <td>0</td>\n",
       "      <td>0</td>\n",
       "      <td>50</td>\n",
       "      <td>50</td>\n",
       "    </tr>\n",
       "    <tr>\n",
       "      <th>93</th>\n",
       "      <td>100</td>\n",
       "      <td>0</td>\n",
       "      <td>0</td>\n",
       "      <td>0</td>\n",
       "      <td>100</td>\n",
       "      <td>0</td>\n",
       "      <td>0</td>\n",
       "      <td>50</td>\n",
       "      <td>50</td>\n",
       "      <td>100</td>\n",
       "      <td>0</td>\n",
       "      <td>0</td>\n",
       "      <td>0</td>\n",
       "      <td>100</td>\n",
       "      <td>0</td>\n",
       "      <td>0</td>\n",
       "      <td>50</td>\n",
       "      <td>50</td>\n",
       "    </tr>\n",
       "    <tr>\n",
       "      <th>94</th>\n",
       "      <td>100</td>\n",
       "      <td>0</td>\n",
       "      <td>0</td>\n",
       "      <td>0</td>\n",
       "      <td>100</td>\n",
       "      <td>0</td>\n",
       "      <td>0</td>\n",
       "      <td>50</td>\n",
       "      <td>50</td>\n",
       "      <td>100</td>\n",
       "      <td>0</td>\n",
       "      <td>0</td>\n",
       "      <td>0</td>\n",
       "      <td>100</td>\n",
       "      <td>0</td>\n",
       "      <td>0</td>\n",
       "      <td>50</td>\n",
       "      <td>50</td>\n",
       "    </tr>\n",
       "    <tr>\n",
       "      <th>95</th>\n",
       "      <td>100</td>\n",
       "      <td>0</td>\n",
       "      <td>0</td>\n",
       "      <td>0</td>\n",
       "      <td>100</td>\n",
       "      <td>0</td>\n",
       "      <td>0</td>\n",
       "      <td>50</td>\n",
       "      <td>50</td>\n",
       "      <td>100</td>\n",
       "      <td>0</td>\n",
       "      <td>0</td>\n",
       "      <td>0</td>\n",
       "      <td>100</td>\n",
       "      <td>0</td>\n",
       "      <td>0</td>\n",
       "      <td>50</td>\n",
       "      <td>50</td>\n",
       "    </tr>\n",
       "  </tbody>\n",
       "</table>\n",
       "<p>100 rows × 18 columns</p>\n",
       "</div>"
      ],
      "text/plain": [
       "         1  2  3  4    5  6  7   8   9    10 11 12 13   14 15 16  17  18\n",
       "gender    0  0  0  0    0  0  0   0   0    1  1  1  1    1  1  1   1   1\n",
       "FROM      1  1  1  2    2  2  3   3   3    1  1  1  2    2  2  3   3   3\n",
       "TO        1  2  3  1    2  3  1   2   3    1  2  3  1    2  3  1   2   3\n",
       "age                                                                     \n",
       "0       100  0  0  0  100  0  0  50  50  100  0  0  0  100  0  0  50  50\n",
       "...     ... .. .. ..  ... .. ..  ..  ..  ... .. .. ..  ... .. ..  ..  ..\n",
       "91      100  0  0  0  100  0  0  50  50  100  0  0  0  100  0  0  50  50\n",
       "92      100  0  0  0  100  0  0  50  50  100  0  0  0  100  0  0  50  50\n",
       "93      100  0  0  0  100  0  0  50  50  100  0  0  0  100  0  0  50  50\n",
       "94      100  0  0  0  100  0  0  50  50  100  0  0  0  100  0  0  50  50\n",
       "95      100  0  0  0  100  0  0  50  50  100  0  0  0  100  0  0  50  50\n",
       "\n",
       "[100 rows x 18 columns]"
      ]
     },
     "execution_count": 8,
     "metadata": {},
     "output_type": "execute_result"
    }
   ],
   "source": [
    "# Create a transitionmatrix\n",
    "def flatten(xss):\n",
    "    return [x for xs in xss for x in xs]\n",
    "\n",
    "age_range = list(range(start_age,stop_age+1))\n",
    "gender = ['0', '1'] # 0: male, 1: female\n",
    "categories = list(range(1, n_categories+1))\n",
    "\n",
    "length_of_frame = len(age_range)*len(gender)*(n_categories*n_categories)\n",
    "\n",
    "age_column = age_range*len(gender)*(n_categories*n_categories)\n",
    "gender_column = sorted(gender*len(age_range)*(n_categories*n_categories))\n",
    "categories_column = flatten([[category]*len(age_range)*n_categories for category in categories]*len(gender))\n",
    "transition_category_column = flatten([[category]*len(age_range) for category in categories]*n_categories*len(gender))\n",
    "\n",
    "data = pd.DataFrame({'age': age_column, \n",
    "                     'gender': gender_column, \n",
    "                     'category': categories_column, \n",
    "                     'transition_category': transition_category_column})\n",
    "\n",
    "data['transition_chance'] = 0\n",
    "for transition in transition_chances:\n",
    "    data.loc[((data.category==transition[0]) & (data.transition_category==transition[1])), 'transition_chance'] = transition[2]\n",
    "\n",
    "pivotted_data = pd.pivot_table(data=data, index=\"age\", columns=['gender', 'category', 'transition_category'], values='transition_chance').astype('int')\n",
    "\n",
    "tmp = pivotted_data.columns.to_frame().T\n",
    "tmp.loc[len(tmp)] = ''\n",
    "tmp.rename(index={3:'age', 'category':'FROM', 'transition_category': 'TO'}, inplace=True)\n",
    "pivotted_data = pd.concat([tmp, pivotted_data])\n",
    "pivotted_data.columns = range(1,len(pivotted_data.columns)+1)\n",
    "\n",
    "pivotted_data # Show pivotted data"
   ]
  },
  {
   "cell_type": "code",
   "execution_count": null,
   "metadata": {},
   "outputs": [],
   "source": [
    "def flatten(xss):\n",
    "    return [x for xs in xss for x in xs]\n",
    "\n",
    "age_range = list(range(start_age,stop_age+1))\n",
    "gender = ['0', '1'] # 0: male, 1: female\n",
    "categories = list(range(1, n_categories+1))\n",
    "\n",
    "length_of_frame = len(age_range)*len(gender)*(n_categories*n_categories)\n",
    "\n",
    "age_column = age_range*len(gender)*(n_categories*n_categories)\n",
    "gender_column = sorted(gender*len(age_range)*(n_categories*n_categories))\n",
    "categories_column = flatten([[category]*len(age_range)*n_categories for category in categories]*len(gender))\n",
    "transition_category_column = flatten([[category]*len(age_range) for category in categories]*n_categories*len(gender))\n",
    "\n",
    "data = pd.DataFrame({'age': age_column, \n",
    "                     'gender': gender_column, \n",
    "                     'category': categories_column, \n",
    "                     'transition_category': transition_category_column})"
   ]
  },
  {
   "cell_type": "code",
   "execution_count": null,
   "metadata": {},
   "outputs": [],
   "source": [
    "def create_matrix(start_age, stop_age, n_categories, transition_chances):\n",
    "    # Create a transitionmatrix\n",
    "\n",
    "    age_range = list(range(start_age,stop_age+1))\n",
    "    gender = ['0', '1'] # 0: male, 1: female\n",
    "    categories = list(range(1, n_categories+1))\n",
    "\n",
    "    length_of_frame = len(age_range)*len(gender)*(n_categories*n_categories)\n",
    "\n",
    "    age_column = age_range*len(gender)*(n_categories*n_categories)\n",
    "    gender_column = sorted(gender*len(age_range)*(n_categories*n_categories))\n",
    "    categories_column = flatten([[category]*len(age_range)*n_categories for category in categories]*len(gender))\n",
    "    transition_category_column = flatten([[category]*len(age_range) for category in categories]*n_categories*len(gender))\n",
    "\n",
    "    data = pd.DataFrame({'age': age_column, \n",
    "                        'gender': gender_column, \n",
    "                        'category': categories_column, \n",
    "                        'transition_category': transition_category_column})\n",
    "\n",
    "    data['transition_chance'] = 0\n",
    "    for transition in transition_chances:\n",
    "        data.loc[((data.category==transition[0]) & (data.transition_category==transition[1])), 'transition_chance'] = transition[2]\n",
    "\n",
    "    return(data)"
   ]
  },
  {
   "cell_type": "code",
   "execution_count": 539,
   "metadata": {},
   "outputs": [
    {
     "name": "stdout",
     "output_type": "stream",
     "text": [
      "Created: transition_matrix_20240716_130110.xml\n"
     ]
    }
   ],
   "source": [
    "# Create an xml file with transitionmatrix\n",
    "root = ET.Element('transitionmatrix')\n",
    "\n",
    "for idx,row in data.iterrows():\n",
    "    transition = ET.SubElement(root, 'transition')\n",
    "    age = ET.SubElement(transition, 'age')\n",
    "    sex = ET.SubElement(transition, 'sex')\n",
    "    from_ = ET.SubElement(transition, 'from')\n",
    "    to = ET.SubElement(transition, 'to')\n",
    "    percent = ET.SubElement(transition, 'percent')\n",
    "    age.text = str(row.age)\n",
    "    sex.text = str(row.gender)\n",
    "    from_.text = str(row.category)\n",
    "    to.text = str(row.transition_category)\n",
    "    percent.text = str(row.transition_chance)\n",
    "\n",
    "tree = ET.ElementTree(root)\n",
    "\n",
    "now = datetime.now()\n",
    "dt_string = now.strftime(\"%Y%m%d_%H%M%S\")\n",
    "output_xml = f\"transition_matrix_{dt_string}.xml\"\n",
    "tree.write(output_xml)\n",
    "print(f'Created: {output_xml}')"
   ]
  },
  {
   "cell_type": "markdown",
   "metadata": {},
   "source": [
    "<br>\n",
    "<br>\n",
    "<br>"
   ]
  },
  {
   "cell_type": "markdown",
   "metadata": {},
   "source": [
    "## Archive"
   ]
  },
  {
   "cell_type": "code",
   "execution_count": 461,
   "metadata": {},
   "outputs": [],
   "source": [
    "# ET.dump(new_scenario)\n",
    "# pivotted_data.to_excel('even_proberen.xlsx')\n",
    "\n",
    "# tree, new_scenario = add_scenario(tree)\n",
    "# new_scenario = update_scenario(new_scenario, \n",
    "#                                uniquename=\"Scenario1\", \n",
    "#                                successRate=\"0\", \n",
    "#                                targetMinAge=\"0\", \n",
    "#                                targetMaxAge=\"95\", \n",
    "#                                targetSex=\"2\", \n",
    "#                                transfilename='sim1Rose', \n",
    "#                                prevfilename='Name')"
   ]
  }
 ],
 "metadata": {
  "kernelspec": {
   "display_name": "dynamo",
   "language": "python",
   "name": "python3"
  },
  "language_info": {
   "codemirror_mode": {
    "name": "ipython",
    "version": 3
   },
   "file_extension": ".py",
   "mimetype": "text/x-python",
   "name": "python",
   "nbconvert_exporter": "python",
   "pygments_lexer": "ipython3",
   "version": "3.10.14"
  }
 },
 "nbformat": 4,
 "nbformat_minor": 2
}
